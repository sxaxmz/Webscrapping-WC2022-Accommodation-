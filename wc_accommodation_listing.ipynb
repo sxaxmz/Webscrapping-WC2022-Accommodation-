{
  "nbformat": 4,
  "nbformat_minor": 0,
  "metadata": {
    "colab": {
      "provenance": []
    },
    "kernelspec": {
      "name": "python3",
      "display_name": "Python 3"
    },
    "language_info": {
      "name": "python"
    }
  },
  "cells": [
    {
      "cell_type": "markdown",
      "source": [
        "# Building Concepts "
      ],
      "metadata": {
        "id": "GGqdvt2uz1tW"
      }
    },
    {
      "cell_type": "code",
      "source": [
        "!pip install selenium\n",
        "!pip install msedge-selenium-tools==3.141.3\n",
        "!pip install webdriver-manager\n",
        "!apt-get update # to update ubuntu to correctly run apt install\n",
        "!apt install chromium-chromedriver\n",
        "!cp /usr/lib/chromium-browser/chromedriver /usr/bin"
      ],
      "metadata": {
        "id": "1Qn4pOoHa9K3",
        "colab": {
          "base_uri": "https://localhost:8080/"
        },
        "outputId": "8585e7c3-267a-4283-e9dd-0adc2ad3c15f"
      },
      "execution_count": 1,
      "outputs": [
        {
          "output_type": "stream",
          "name": "stdout",
          "text": [
            "Looking in indexes: https://pypi.org/simple, https://us-python.pkg.dev/colab-wheels/public/simple/\n",
            "Collecting selenium\n",
            "  Downloading selenium-4.5.0-py3-none-any.whl (995 kB)\n",
            "\u001b[K     |████████████████████████████████| 995 kB 5.3 MB/s \n",
            "\u001b[?25hRequirement already satisfied: certifi>=2021.10.8 in /usr/local/lib/python3.7/dist-packages (from selenium) (2022.9.24)\n",
            "Collecting trio-websocket~=0.9\n",
            "  Downloading trio_websocket-0.9.2-py3-none-any.whl (16 kB)\n",
            "Collecting trio~=0.17\n",
            "  Downloading trio-0.22.0-py3-none-any.whl (384 kB)\n",
            "\u001b[K     |████████████████████████████████| 384 kB 71.0 MB/s \n",
            "\u001b[?25hCollecting urllib3[socks]~=1.26\n",
            "  Downloading urllib3-1.26.12-py2.py3-none-any.whl (140 kB)\n",
            "\u001b[K     |████████████████████████████████| 140 kB 67.1 MB/s \n",
            "\u001b[?25hRequirement already satisfied: idna in /usr/local/lib/python3.7/dist-packages (from trio~=0.17->selenium) (2.10)\n",
            "Collecting exceptiongroup>=1.0.0rc9\n",
            "  Downloading exceptiongroup-1.0.0rc9-py3-none-any.whl (12 kB)\n",
            "Requirement already satisfied: attrs>=19.2.0 in /usr/local/lib/python3.7/dist-packages (from trio~=0.17->selenium) (22.1.0)\n",
            "Collecting async-generator>=1.9\n",
            "  Downloading async_generator-1.10-py3-none-any.whl (18 kB)\n",
            "Collecting sniffio\n",
            "  Downloading sniffio-1.3.0-py3-none-any.whl (10 kB)\n",
            "Requirement already satisfied: sortedcontainers in /usr/local/lib/python3.7/dist-packages (from trio~=0.17->selenium) (2.4.0)\n",
            "Collecting outcome\n",
            "  Downloading outcome-1.2.0-py2.py3-none-any.whl (9.7 kB)\n",
            "Collecting wsproto>=0.14\n",
            "  Downloading wsproto-1.2.0-py3-none-any.whl (24 kB)\n",
            "Requirement already satisfied: PySocks!=1.5.7,<2.0,>=1.5.6 in /usr/local/lib/python3.7/dist-packages (from urllib3[socks]~=1.26->selenium) (1.7.1)\n",
            "Collecting h11<1,>=0.9.0\n",
            "  Downloading h11-0.14.0-py3-none-any.whl (58 kB)\n",
            "\u001b[K     |████████████████████████████████| 58 kB 5.4 MB/s \n",
            "\u001b[?25hRequirement already satisfied: typing-extensions in /usr/local/lib/python3.7/dist-packages (from h11<1,>=0.9.0->wsproto>=0.14->trio-websocket~=0.9->selenium) (4.1.1)\n",
            "Installing collected packages: sniffio, outcome, h11, exceptiongroup, async-generator, wsproto, urllib3, trio, trio-websocket, selenium\n",
            "  Attempting uninstall: urllib3\n",
            "    Found existing installation: urllib3 1.24.3\n",
            "    Uninstalling urllib3-1.24.3:\n",
            "      Successfully uninstalled urllib3-1.24.3\n",
            "\u001b[31mERROR: pip's dependency resolver does not currently take into account all the packages that are installed. This behaviour is the source of the following dependency conflicts.\n",
            "requests 2.23.0 requires urllib3!=1.25.0,!=1.25.1,<1.26,>=1.21.1, but you have urllib3 1.26.12 which is incompatible.\u001b[0m\n",
            "Successfully installed async-generator-1.10 exceptiongroup-1.0.0rc9 h11-0.14.0 outcome-1.2.0 selenium-4.5.0 sniffio-1.3.0 trio-0.22.0 trio-websocket-0.9.2 urllib3-1.26.12 wsproto-1.2.0\n",
            "Looking in indexes: https://pypi.org/simple, https://us-python.pkg.dev/colab-wheels/public/simple/\n",
            "Collecting msedge-selenium-tools==3.141.3\n",
            "  Downloading msedge_selenium_tools-3.141.3-py3-none-any.whl (15 kB)\n",
            "Collecting selenium==3.141\n",
            "  Downloading selenium-3.141.0-py2.py3-none-any.whl (904 kB)\n",
            "\u001b[K     |████████████████████████████████| 904 kB 5.3 MB/s \n",
            "\u001b[?25hRequirement already satisfied: urllib3 in /usr/local/lib/python3.7/dist-packages (from selenium==3.141->msedge-selenium-tools==3.141.3) (1.26.12)\n",
            "Installing collected packages: selenium, msedge-selenium-tools\n",
            "  Attempting uninstall: selenium\n",
            "    Found existing installation: selenium 4.5.0\n",
            "    Uninstalling selenium-4.5.0:\n",
            "      Successfully uninstalled selenium-4.5.0\n",
            "Successfully installed msedge-selenium-tools-3.141.3 selenium-3.141.0\n",
            "Looking in indexes: https://pypi.org/simple, https://us-python.pkg.dev/colab-wheels/public/simple/\n",
            "Collecting webdriver-manager\n",
            "  Downloading webdriver_manager-3.8.4-py2.py3-none-any.whl (27 kB)\n",
            "Collecting python-dotenv\n",
            "  Downloading python_dotenv-0.21.0-py3-none-any.whl (18 kB)\n",
            "Requirement already satisfied: tqdm in /usr/local/lib/python3.7/dist-packages (from webdriver-manager) (4.64.1)\n",
            "Requirement already satisfied: requests in /usr/local/lib/python3.7/dist-packages (from webdriver-manager) (2.23.0)\n",
            "Collecting urllib3!=1.25.0,!=1.25.1,<1.26,>=1.21.1\n",
            "  Downloading urllib3-1.25.11-py2.py3-none-any.whl (127 kB)\n",
            "\u001b[K     |████████████████████████████████| 127 kB 7.9 MB/s \n",
            "\u001b[?25hRequirement already satisfied: certifi>=2017.4.17 in /usr/local/lib/python3.7/dist-packages (from requests->webdriver-manager) (2022.9.24)\n",
            "Requirement already satisfied: chardet<4,>=3.0.2 in /usr/local/lib/python3.7/dist-packages (from requests->webdriver-manager) (3.0.4)\n",
            "Requirement already satisfied: idna<3,>=2.5 in /usr/local/lib/python3.7/dist-packages (from requests->webdriver-manager) (2.10)\n",
            "Installing collected packages: urllib3, python-dotenv, webdriver-manager\n",
            "  Attempting uninstall: urllib3\n",
            "    Found existing installation: urllib3 1.26.12\n",
            "    Uninstalling urllib3-1.26.12:\n",
            "      Successfully uninstalled urllib3-1.26.12\n",
            "Successfully installed python-dotenv-0.21.0 urllib3-1.25.11 webdriver-manager-3.8.4\n",
            "Get:1 https://cloud.r-project.org/bin/linux/ubuntu bionic-cran40/ InRelease [3,626 B]\n",
            "Ign:2 https://developer.download.nvidia.com/compute/machine-learning/repos/ubuntu1804/x86_64  InRelease\n",
            "Get:3 https://developer.download.nvidia.com/compute/cuda/repos/ubuntu1804/x86_64  InRelease [1,581 B]\n",
            "Hit:4 http://archive.ubuntu.com/ubuntu bionic InRelease\n",
            "Hit:5 https://developer.download.nvidia.com/compute/machine-learning/repos/ubuntu1804/x86_64  Release\n",
            "Get:6 http://security.ubuntu.com/ubuntu bionic-security InRelease [88.7 kB]\n",
            "Get:7 http://archive.ubuntu.com/ubuntu bionic-updates InRelease [88.7 kB]\n",
            "Hit:8 http://ppa.launchpad.net/c2d4u.team/c2d4u4.0+/ubuntu bionic InRelease\n",
            "Get:9 http://archive.ubuntu.com/ubuntu bionic-backports InRelease [83.3 kB]\n",
            "Get:10 https://developer.download.nvidia.com/compute/cuda/repos/ubuntu1804/x86_64  Packages [985 kB]\n",
            "Hit:11 http://ppa.launchpad.net/cran/libgit2/ubuntu bionic InRelease\n",
            "Hit:12 http://ppa.launchpad.net/deadsnakes/ppa/ubuntu bionic InRelease\n",
            "Hit:13 http://ppa.launchpad.net/graphics-drivers/ppa/ubuntu bionic InRelease\n",
            "Get:15 http://archive.ubuntu.com/ubuntu bionic-updates/universe amd64 Packages [2,332 kB]\n",
            "Get:16 http://archive.ubuntu.com/ubuntu bionic-updates/main amd64 Packages [3,467 kB]\n",
            "Get:17 http://security.ubuntu.com/ubuntu bionic-security/universe amd64 Packages [1,554 kB]\n",
            "Get:18 http://security.ubuntu.com/ubuntu bionic-security/main amd64 Packages [3,035 kB]\n",
            "Fetched 11.6 MB in 3s (3,603 kB/s)\n",
            "Reading package lists... Done\n",
            "Reading package lists... Done\n",
            "Building dependency tree       \n",
            "Reading state information... Done\n",
            "The following package was automatically installed and is no longer required:\n",
            "  libnvidia-common-460\n",
            "Use 'apt autoremove' to remove it.\n",
            "The following additional packages will be installed:\n",
            "  chromium-browser chromium-browser-l10n chromium-codecs-ffmpeg-extra\n",
            "Suggested packages:\n",
            "  webaccounts-chromium-extension unity-chromium-extension\n",
            "The following NEW packages will be installed:\n",
            "  chromium-browser chromium-browser-l10n chromium-chromedriver\n",
            "  chromium-codecs-ffmpeg-extra\n",
            "0 upgraded, 4 newly installed, 0 to remove and 27 not upgraded.\n",
            "Need to get 91.7 MB of archives.\n",
            "After this operation, 309 MB of additional disk space will be used.\n",
            "Get:1 http://archive.ubuntu.com/ubuntu bionic-updates/universe amd64 chromium-codecs-ffmpeg-extra amd64 105.0.5195.102-0ubuntu0.18.04.1 [1,156 kB]\n",
            "Get:2 http://archive.ubuntu.com/ubuntu bionic-updates/universe amd64 chromium-browser amd64 105.0.5195.102-0ubuntu0.18.04.1 [80.1 MB]\n",
            "Get:3 http://archive.ubuntu.com/ubuntu bionic-updates/universe amd64 chromium-browser-l10n all 105.0.5195.102-0ubuntu0.18.04.1 [5,097 kB]\n",
            "Get:4 http://archive.ubuntu.com/ubuntu bionic-updates/universe amd64 chromium-chromedriver amd64 105.0.5195.102-0ubuntu0.18.04.1 [5,320 kB]\n",
            "Fetched 91.7 MB in 2s (45.8 MB/s)\n",
            "Selecting previously unselected package chromium-codecs-ffmpeg-extra.\n",
            "(Reading database ... 123942 files and directories currently installed.)\n",
            "Preparing to unpack .../chromium-codecs-ffmpeg-extra_105.0.5195.102-0ubuntu0.18.04.1_amd64.deb ...\n",
            "Unpacking chromium-codecs-ffmpeg-extra (105.0.5195.102-0ubuntu0.18.04.1) ...\n",
            "Selecting previously unselected package chromium-browser.\n",
            "Preparing to unpack .../chromium-browser_105.0.5195.102-0ubuntu0.18.04.1_amd64.deb ...\n",
            "Unpacking chromium-browser (105.0.5195.102-0ubuntu0.18.04.1) ...\n",
            "Selecting previously unselected package chromium-browser-l10n.\n",
            "Preparing to unpack .../chromium-browser-l10n_105.0.5195.102-0ubuntu0.18.04.1_all.deb ...\n",
            "Unpacking chromium-browser-l10n (105.0.5195.102-0ubuntu0.18.04.1) ...\n",
            "Selecting previously unselected package chromium-chromedriver.\n",
            "Preparing to unpack .../chromium-chromedriver_105.0.5195.102-0ubuntu0.18.04.1_amd64.deb ...\n",
            "Unpacking chromium-chromedriver (105.0.5195.102-0ubuntu0.18.04.1) ...\n",
            "Setting up chromium-codecs-ffmpeg-extra (105.0.5195.102-0ubuntu0.18.04.1) ...\n",
            "Setting up chromium-browser (105.0.5195.102-0ubuntu0.18.04.1) ...\n",
            "update-alternatives: using /usr/bin/chromium-browser to provide /usr/bin/x-www-browser (x-www-browser) in auto mode\n",
            "update-alternatives: using /usr/bin/chromium-browser to provide /usr/bin/gnome-www-browser (gnome-www-browser) in auto mode\n",
            "Setting up chromium-chromedriver (105.0.5195.102-0ubuntu0.18.04.1) ...\n",
            "Setting up chromium-browser-l10n (105.0.5195.102-0ubuntu0.18.04.1) ...\n",
            "Processing triggers for man-db (2.8.3-2ubuntu0.1) ...\n",
            "Processing triggers for hicolor-icon-theme (0.17-2) ...\n",
            "Processing triggers for mime-support (3.60ubuntu1) ...\n",
            "Processing triggers for libc-bin (2.27-3ubuntu1.6) ...\n",
            "cp: '/usr/lib/chromium-browser/chromedriver' and '/usr/bin/chromedriver' are the same file\n"
          ]
        }
      ]
    },
    {
      "cell_type": "code",
      "execution_count": 2,
      "metadata": {
        "id": "_hTUt74-Zvcn"
      },
      "outputs": [],
      "source": [
        "import csv\n",
        "from bs4 import BeautifulSoup\n",
        "from selenium import webdriver # Firefox & Chrome\n",
        "from msedge.selenium_tools import Edge, EdgeOptions # Edge\n",
        "from webdriver_manager.chrome import ChromeDriverManager"
      ]
    },
    {
      "cell_type": "markdown",
      "source": [
        "Run Link Using Webdriver"
      ],
      "metadata": {
        "id": "hxBiUDbxgYRz"
      }
    },
    {
      "cell_type": "code",
      "source": [
        "url = 'https://www.qatar2022.qa/book/en/search'\n",
        "\n",
        "chrome_options = webdriver.ChromeOptions()\n",
        "chrome_options.add_argument('--headless')\n",
        "chrome_options.add_argument('--no-sandbox')\n",
        "chrome_options.add_argument('--disable-dev-shm-usage')\n",
        "chrome_driver = webdriver.Chrome('chromedriver',options=chrome_options)\n",
        "\n",
        "#https://sites.google.com/a/chromium.org/chromedriver/home\n",
        "#edge_driver.get(url)\n",
        "chrome_driver.get(url)\n",
        "#firefox_drive.get(url)\n",
        "\n",
        "soup = BeautifulSoup(chrome_driver.page_source, 'html.parser')"
      ],
      "metadata": {
        "id": "26Up1ag8dIrU"
      },
      "execution_count": 3,
      "outputs": []
    },
    {
      "cell_type": "markdown",
      "source": [
        "Extract Collection"
      ],
      "metadata": {
        "id": "PNaxml03O4aW"
      }
    },
    {
      "cell_type": "code",
      "source": [
        "results = soup.find_all('div', {'class': 'hotel-listing__item'})\n",
        "#item_content = str(results[0]).split('class=\"hotel-listing__item-content\">')[1]\n",
        "item_content = results[0].find('div', 'hotel-listing__item-content')\n",
        "item_availability = item_content.find('span', 'hotel-listing__item-price-burgundy').text\n",
        "item_name = item_content.find('span', 'hotel-listing__item-name').text\n",
        "item_link = item_content.find('a', 'hotel-listing__item-link').get('href')\n",
        "print('Items Extracted:', len(results))\n",
        "print('Sample: ')\n",
        "print(item_availability)\n",
        "print(item_name)\n",
        "print(item_link)"
      ],
      "metadata": {
        "id": "HGj8DNWIRPIo",
        "colab": {
          "base_uri": "https://localhost:8080/"
        },
        "outputId": "f49cda8f-b657-46c6-9a29-d015b9456fef"
      },
      "execution_count": 10,
      "outputs": [
        {
          "output_type": "stream",
          "name": "stdout",
          "text": [
            "Items Extracted: 10\n",
            "Sample: \n",
            "Available\n",
            "Fan Village Qetaifan Island North\n",
            "https://www.qatar2022.qa/book/en/detail/57992/Fan-Village-Qetaifan-Island-North\n"
          ]
        }
      ]
    },
    {
      "cell_type": "markdown",
      "source": [
        "# Page Numbers"
      ],
      "metadata": {
        "id": "NZZrx-FQaA5v"
      }
    },
    {
      "cell_type": "code",
      "source": [
        "pagnation = soup.find_all('div', {'class': 'pagination'})\n",
        "#pagnation = item_content.find('div', 'pagination')\n",
        "count_pg_no_btn = pagnation[0].find_all('button')\n",
        "print('Pagenation Buttons ({}): '.format(len(count_pg_no_btn)), count_pg_no_btn)\n",
        "disabled_btn = pagnation[0].find_all('button', {'disabled': 'disabled'})\n",
        "last_pg_btn = count_pg_no_btn[count_pg_no_btn.index(disabled_btn[-1])+1]\n",
        "pg_number_max = last_pg_btn.find('a').text\n",
        "print('Maximum Page Number: ',pg_number_max)"
      ],
      "metadata": {
        "colab": {
          "base_uri": "https://localhost:8080/"
        },
        "id": "SmohYrDqb2yO",
        "outputId": "7983addb-4e4c-43ba-802c-6fe65f3d5497"
      },
      "execution_count": 13,
      "outputs": [
        {
          "output_type": "stream",
          "name": "stdout",
          "text": [
            "<div class=\"pagCentered pagination\" data-gtmpage=\"1\" data-v-356edd9b=\"\" data-v-3645943b=\"\"><ul data-v-356edd9b=\"\"><button data-v-356edd9b=\"\" disabled=\"disabled\"><li class=\"pagination__prev\"><a>Previous</a></li></button><button data-v-356edd9b=\"\"><li class=\"-active\"><a>1</a></li></button><button data-v-356edd9b=\"\"><li><a>2</a></li></button><button data-v-356edd9b=\"\"><li><a>3</a></li></button><button data-v-356edd9b=\"\"><li><a>4</a></li></button><button data-v-356edd9b=\"\"><li><a>5</a></li></button><button data-v-356edd9b=\"\"><li><a>6</a></li></button><button data-v-356edd9b=\"\"><li><a>7</a></li></button><button data-v-356edd9b=\"\" disabled=\"disabled\"><li>...</li></button><button data-v-356edd9b=\"\"><li><a>61</a></li></button><button data-v-356edd9b=\"\"><li class=\"pagination__next\"><a>Next</a></li></button></ul></div>\n",
            "Pagenation Buttons (11):  [<button data-v-356edd9b=\"\" disabled=\"disabled\"><li class=\"pagination__prev\"><a>Previous</a></li></button>, <button data-v-356edd9b=\"\"><li class=\"-active\"><a>1</a></li></button>, <button data-v-356edd9b=\"\"><li><a>2</a></li></button>, <button data-v-356edd9b=\"\"><li><a>3</a></li></button>, <button data-v-356edd9b=\"\"><li><a>4</a></li></button>, <button data-v-356edd9b=\"\"><li><a>5</a></li></button>, <button data-v-356edd9b=\"\"><li><a>6</a></li></button>, <button data-v-356edd9b=\"\"><li><a>7</a></li></button>, <button data-v-356edd9b=\"\" disabled=\"disabled\"><li>...</li></button>, <button data-v-356edd9b=\"\"><li><a>61</a></li></button>, <button data-v-356edd9b=\"\"><li class=\"pagination__next\"><a>Next</a></li></button>]\n",
            "Maximum Page Number:  61\n"
          ]
        }
      ]
    },
    {
      "cell_type": "code",
      "source": [
        "# Figuring Button Click Page Change\n",
        "print(pagnation[0])\n",
        "#btn_pg = chrome_driver.find_element_by_css_selector('li.-active').click()\n",
        "btn_pg = chrome_driver.find_element_by_link_text(\"2\").click() # Pagenation not clickcable\n",
        "print(btn_pg.text)"
      ],
      "metadata": {
        "colab": {
          "base_uri": "https://localhost:8080/",
          "height": 435
        },
        "id": "B3N3WGJehQas",
        "outputId": "3839109a-8f4f-472b-f4d2-189d4ff76518"
      },
      "execution_count": 15,
      "outputs": [
        {
          "output_type": "stream",
          "name": "stdout",
          "text": [
            "<div class=\"pagCentered pagination\" data-gtmpage=\"1\" data-v-356edd9b=\"\" data-v-3645943b=\"\"><ul data-v-356edd9b=\"\"><button data-v-356edd9b=\"\" disabled=\"disabled\"><li class=\"pagination__prev\"><a>Previous</a></li></button><button data-v-356edd9b=\"\"><li class=\"-active\"><a>1</a></li></button><button data-v-356edd9b=\"\"><li><a>2</a></li></button><button data-v-356edd9b=\"\"><li><a>3</a></li></button><button data-v-356edd9b=\"\"><li><a>4</a></li></button><button data-v-356edd9b=\"\"><li><a>5</a></li></button><button data-v-356edd9b=\"\"><li><a>6</a></li></button><button data-v-356edd9b=\"\"><li><a>7</a></li></button><button data-v-356edd9b=\"\" disabled=\"disabled\"><li>...</li></button><button data-v-356edd9b=\"\"><li><a>61</a></li></button><button data-v-356edd9b=\"\"><li class=\"pagination__next\"><a>Next</a></li></button></ul></div>\n"
          ]
        },
        {
          "output_type": "error",
          "ename": "ElementClickInterceptedException",
          "evalue": "ignored",
          "traceback": [
            "\u001b[0;31m---------------------------------------------------------------------------\u001b[0m",
            "\u001b[0;31mElementClickInterceptedException\u001b[0m          Traceback (most recent call last)",
            "\u001b[0;32m<ipython-input-15-e21456bd4dcd>\u001b[0m in \u001b[0;36m<module>\u001b[0;34m\u001b[0m\n\u001b[1;32m      2\u001b[0m \u001b[0mprint\u001b[0m\u001b[0;34m(\u001b[0m\u001b[0mpagnation\u001b[0m\u001b[0;34m[\u001b[0m\u001b[0;36m0\u001b[0m\u001b[0;34m]\u001b[0m\u001b[0;34m)\u001b[0m\u001b[0;34m\u001b[0m\u001b[0;34m\u001b[0m\u001b[0m\n\u001b[1;32m      3\u001b[0m \u001b[0;31m#btn_pg = chrome_driver.find_element_by_css_selector('li.-active').click()\u001b[0m\u001b[0;34m\u001b[0m\u001b[0;34m\u001b[0m\u001b[0;34m\u001b[0m\u001b[0m\n\u001b[0;32m----> 4\u001b[0;31m \u001b[0mbtn_pg\u001b[0m \u001b[0;34m=\u001b[0m \u001b[0mchrome_driver\u001b[0m\u001b[0;34m.\u001b[0m\u001b[0mfind_element_by_link_text\u001b[0m\u001b[0;34m(\u001b[0m\u001b[0;34m\"2\"\u001b[0m\u001b[0;34m)\u001b[0m\u001b[0;34m.\u001b[0m\u001b[0mclick\u001b[0m\u001b[0;34m(\u001b[0m\u001b[0;34m)\u001b[0m\u001b[0;34m\u001b[0m\u001b[0;34m\u001b[0m\u001b[0m\n\u001b[0m\u001b[1;32m      5\u001b[0m \u001b[0mprint\u001b[0m\u001b[0;34m(\u001b[0m\u001b[0mbtn_pg\u001b[0m\u001b[0;34m.\u001b[0m\u001b[0mtext\u001b[0m\u001b[0;34m)\u001b[0m\u001b[0;34m\u001b[0m\u001b[0;34m\u001b[0m\u001b[0m\n\u001b[1;32m      6\u001b[0m \u001b[0mprint\u001b[0m\u001b[0;34m(\u001b[0m\u001b[0mpagnation\u001b[0m\u001b[0;34m[\u001b[0m\u001b[0;36m0\u001b[0m\u001b[0;34m]\u001b[0m\u001b[0;34m)\u001b[0m\u001b[0;34m\u001b[0m\u001b[0;34m\u001b[0m\u001b[0m\n",
            "\u001b[0;32m/usr/local/lib/python3.7/dist-packages/selenium/webdriver/remote/webelement.py\u001b[0m in \u001b[0;36mclick\u001b[0;34m(self)\u001b[0m\n\u001b[1;32m     78\u001b[0m     \u001b[0;32mdef\u001b[0m \u001b[0mclick\u001b[0m\u001b[0;34m(\u001b[0m\u001b[0mself\u001b[0m\u001b[0;34m)\u001b[0m\u001b[0;34m:\u001b[0m\u001b[0;34m\u001b[0m\u001b[0;34m\u001b[0m\u001b[0m\n\u001b[1;32m     79\u001b[0m         \u001b[0;34m\"\"\"Clicks the element.\"\"\"\u001b[0m\u001b[0;34m\u001b[0m\u001b[0;34m\u001b[0m\u001b[0m\n\u001b[0;32m---> 80\u001b[0;31m         \u001b[0mself\u001b[0m\u001b[0;34m.\u001b[0m\u001b[0m_execute\u001b[0m\u001b[0;34m(\u001b[0m\u001b[0mCommand\u001b[0m\u001b[0;34m.\u001b[0m\u001b[0mCLICK_ELEMENT\u001b[0m\u001b[0;34m)\u001b[0m\u001b[0;34m\u001b[0m\u001b[0;34m\u001b[0m\u001b[0m\n\u001b[0m\u001b[1;32m     81\u001b[0m \u001b[0;34m\u001b[0m\u001b[0m\n\u001b[1;32m     82\u001b[0m     \u001b[0;32mdef\u001b[0m \u001b[0msubmit\u001b[0m\u001b[0;34m(\u001b[0m\u001b[0mself\u001b[0m\u001b[0;34m)\u001b[0m\u001b[0;34m:\u001b[0m\u001b[0;34m\u001b[0m\u001b[0;34m\u001b[0m\u001b[0m\n",
            "\u001b[0;32m/usr/local/lib/python3.7/dist-packages/selenium/webdriver/remote/webelement.py\u001b[0m in \u001b[0;36m_execute\u001b[0;34m(self, command, params)\u001b[0m\n\u001b[1;32m    631\u001b[0m             \u001b[0mparams\u001b[0m \u001b[0;34m=\u001b[0m \u001b[0;34m{\u001b[0m\u001b[0;34m}\u001b[0m\u001b[0;34m\u001b[0m\u001b[0;34m\u001b[0m\u001b[0m\n\u001b[1;32m    632\u001b[0m         \u001b[0mparams\u001b[0m\u001b[0;34m[\u001b[0m\u001b[0;34m'id'\u001b[0m\u001b[0;34m]\u001b[0m \u001b[0;34m=\u001b[0m \u001b[0mself\u001b[0m\u001b[0;34m.\u001b[0m\u001b[0m_id\u001b[0m\u001b[0;34m\u001b[0m\u001b[0;34m\u001b[0m\u001b[0m\n\u001b[0;32m--> 633\u001b[0;31m         \u001b[0;32mreturn\u001b[0m \u001b[0mself\u001b[0m\u001b[0;34m.\u001b[0m\u001b[0m_parent\u001b[0m\u001b[0;34m.\u001b[0m\u001b[0mexecute\u001b[0m\u001b[0;34m(\u001b[0m\u001b[0mcommand\u001b[0m\u001b[0;34m,\u001b[0m \u001b[0mparams\u001b[0m\u001b[0;34m)\u001b[0m\u001b[0;34m\u001b[0m\u001b[0;34m\u001b[0m\u001b[0m\n\u001b[0m\u001b[1;32m    634\u001b[0m \u001b[0;34m\u001b[0m\u001b[0m\n\u001b[1;32m    635\u001b[0m     \u001b[0;32mdef\u001b[0m \u001b[0mfind_element\u001b[0m\u001b[0;34m(\u001b[0m\u001b[0mself\u001b[0m\u001b[0;34m,\u001b[0m \u001b[0mby\u001b[0m\u001b[0;34m=\u001b[0m\u001b[0mBy\u001b[0m\u001b[0;34m.\u001b[0m\u001b[0mID\u001b[0m\u001b[0;34m,\u001b[0m \u001b[0mvalue\u001b[0m\u001b[0;34m=\u001b[0m\u001b[0;32mNone\u001b[0m\u001b[0;34m)\u001b[0m\u001b[0;34m:\u001b[0m\u001b[0;34m\u001b[0m\u001b[0;34m\u001b[0m\u001b[0m\n",
            "\u001b[0;32m/usr/local/lib/python3.7/dist-packages/selenium/webdriver/remote/webdriver.py\u001b[0m in \u001b[0;36mexecute\u001b[0;34m(self, driver_command, params)\u001b[0m\n\u001b[1;32m    319\u001b[0m         \u001b[0mresponse\u001b[0m \u001b[0;34m=\u001b[0m \u001b[0mself\u001b[0m\u001b[0;34m.\u001b[0m\u001b[0mcommand_executor\u001b[0m\u001b[0;34m.\u001b[0m\u001b[0mexecute\u001b[0m\u001b[0;34m(\u001b[0m\u001b[0mdriver_command\u001b[0m\u001b[0;34m,\u001b[0m \u001b[0mparams\u001b[0m\u001b[0;34m)\u001b[0m\u001b[0;34m\u001b[0m\u001b[0;34m\u001b[0m\u001b[0m\n\u001b[1;32m    320\u001b[0m         \u001b[0;32mif\u001b[0m \u001b[0mresponse\u001b[0m\u001b[0;34m:\u001b[0m\u001b[0;34m\u001b[0m\u001b[0;34m\u001b[0m\u001b[0m\n\u001b[0;32m--> 321\u001b[0;31m             \u001b[0mself\u001b[0m\u001b[0;34m.\u001b[0m\u001b[0merror_handler\u001b[0m\u001b[0;34m.\u001b[0m\u001b[0mcheck_response\u001b[0m\u001b[0;34m(\u001b[0m\u001b[0mresponse\u001b[0m\u001b[0;34m)\u001b[0m\u001b[0;34m\u001b[0m\u001b[0;34m\u001b[0m\u001b[0m\n\u001b[0m\u001b[1;32m    322\u001b[0m             response['value'] = self._unwrap_value(\n\u001b[1;32m    323\u001b[0m                 response.get('value', None))\n",
            "\u001b[0;32m/usr/local/lib/python3.7/dist-packages/selenium/webdriver/remote/errorhandler.py\u001b[0m in \u001b[0;36mcheck_response\u001b[0;34m(self, response)\u001b[0m\n\u001b[1;32m    240\u001b[0m                 \u001b[0malert_text\u001b[0m \u001b[0;34m=\u001b[0m \u001b[0mvalue\u001b[0m\u001b[0;34m[\u001b[0m\u001b[0;34m'alert'\u001b[0m\u001b[0;34m]\u001b[0m\u001b[0;34m.\u001b[0m\u001b[0mget\u001b[0m\u001b[0;34m(\u001b[0m\u001b[0;34m'text'\u001b[0m\u001b[0;34m)\u001b[0m\u001b[0;34m\u001b[0m\u001b[0;34m\u001b[0m\u001b[0m\n\u001b[1;32m    241\u001b[0m             \u001b[0;32mraise\u001b[0m \u001b[0mexception_class\u001b[0m\u001b[0;34m(\u001b[0m\u001b[0mmessage\u001b[0m\u001b[0;34m,\u001b[0m \u001b[0mscreen\u001b[0m\u001b[0;34m,\u001b[0m \u001b[0mstacktrace\u001b[0m\u001b[0;34m,\u001b[0m \u001b[0malert_text\u001b[0m\u001b[0;34m)\u001b[0m\u001b[0;34m\u001b[0m\u001b[0;34m\u001b[0m\u001b[0m\n\u001b[0;32m--> 242\u001b[0;31m         \u001b[0;32mraise\u001b[0m \u001b[0mexception_class\u001b[0m\u001b[0;34m(\u001b[0m\u001b[0mmessage\u001b[0m\u001b[0;34m,\u001b[0m \u001b[0mscreen\u001b[0m\u001b[0;34m,\u001b[0m \u001b[0mstacktrace\u001b[0m\u001b[0;34m)\u001b[0m\u001b[0;34m\u001b[0m\u001b[0;34m\u001b[0m\u001b[0m\n\u001b[0m\u001b[1;32m    243\u001b[0m \u001b[0;34m\u001b[0m\u001b[0m\n\u001b[1;32m    244\u001b[0m     \u001b[0;32mdef\u001b[0m \u001b[0m_value_or_default\u001b[0m\u001b[0;34m(\u001b[0m\u001b[0mself\u001b[0m\u001b[0;34m,\u001b[0m \u001b[0mobj\u001b[0m\u001b[0;34m,\u001b[0m \u001b[0mkey\u001b[0m\u001b[0;34m,\u001b[0m \u001b[0mdefault\u001b[0m\u001b[0;34m)\u001b[0m\u001b[0;34m:\u001b[0m\u001b[0;34m\u001b[0m\u001b[0;34m\u001b[0m\u001b[0m\n",
            "\u001b[0;31mElementClickInterceptedException\u001b[0m: Message: element click intercepted: Element is not clickable at point (265, 5804)\n  (Session info: headless chrome=105.0.5195.102)\n"
          ]
        }
      ]
    },
    {
      "cell_type": "markdown",
      "source": [
        "# Complete Prototype"
      ],
      "metadata": {
        "id": "f8r_9ywDzvLd"
      }
    },
    {
      "cell_type": "code",
      "source": [
        "def extract_record(item):\n",
        "  item_content = item.find('div', 'hotel-listing__item-content')\n",
        "  try:\n",
        "    item_availability = item_content.find('span', 'hotel-listing__item-price-burgundy').text\n",
        "    item_name = item_content.find('span', 'hotel-listing__item-name').text\n",
        "    item_link = item_content.find('a', 'hotel-listing__item-link').get('href')\n",
        "  except:\n",
        "    item_name = ''\n",
        "    item_availability = ''\n",
        "    item_link = ''\n",
        "\n",
        "  result = (item_name, item_availability, item_link)\n",
        "\n",
        "  return result"
      ],
      "metadata": {
        "id": "SUGoDChJaDNK"
      },
      "execution_count": 16,
      "outputs": []
    },
    {
      "cell_type": "code",
      "source": [
        "records = []\n",
        "results = soup.find_all('div', {'class': 'hotel-listing__item'})\n",
        "\n",
        "for item in results:\n",
        "  record = extract_record(item)\n",
        "  if record:\n",
        "    records.append(record)\n",
        "print(records)"
      ],
      "metadata": {
        "id": "hmaC-XOdjh-E",
        "colab": {
          "base_uri": "https://localhost:8080/"
        },
        "outputId": "d33352dc-8b30-4832-881b-b5bc9df2bcb7"
      },
      "execution_count": 17,
      "outputs": [
        {
          "output_type": "stream",
          "name": "stdout",
          "text": [
            "[('Fan Village Qetaifan Island North', 'Available', 'https://www.qatar2022.qa/book/en/detail/57992/Fan-Village-Qetaifan-Island-North'), ('4340 Umm Besher Barwa Madinatna Cluster G', 'Available', 'https://www.qatar2022.qa/book/en/detail/57776/4340-Umm-Besher-Barwa-Madinatna-Cluster-G'), ('Fan Village Cabins Free Zone', 'Available', 'https://www.qatar2022.qa/book/en/detail/57833/Fan-Village-Cabins-Free-Zone'), ('Cruise Ship Hotel - MSC World Europa', 'Available', 'https://www.qatar2022.qa/book/en/detail/57367/Cruise-Ship-Hotel---MSC-World-Europa'), ('4381 Barwa Barahat Al Janoub Cluster T', 'Available', 'https://www.qatar2022.qa/book/en/detail/57826/4381-Barwa-Barahat-Al-Janoub-Cluster-T'), ('3351 Al Kharayej Apartments', 'Available', 'https://www.qatar2022.qa/book/en/detail/57571/3351-Al-Kharayej-Apartments'), ('Fan Village Al Khor', 'Available', 'https://www.qatar2022.qa/book/en/detail/57875/Fan-Village-Al-Khor'), ('3234 Fereej Bin Mahmoud 23 Apartments', 'Available', 'https://www.qatar2022.qa/book/en/detail/58062/3234-Fereej-Bin-Mahmoud-23-Apartments'), ('Sambook Ship Dhows', 'Available', 'https://www.qatar2022.qa/book/en/detail/58109/Sambook-Ship-Dhows'), ('3310 Muaither 55 Villas', 'Available', 'https://www.qatar2022.qa/book/en/detail/57482/3310-Muaither-55-Villas')]\n"
          ]
        }
      ]
    },
    {
      "cell_type": "code",
      "source": [
        "import pandas as pd\n",
        "df = pd.DataFrame()\n",
        "\n",
        "names, availabilities, links = [], [], []\n",
        "\n",
        "for record in records:\n",
        "  names.append(record[0])\n",
        "  availabilities.append(record[1])\n",
        "  links.append(record[2])\n",
        "\n",
        "df['Item Name'] = names\n",
        "df['Item Availability'] = availabilities\n",
        "df['Item Link'] = links\n",
        "df.head(len(df))"
      ],
      "metadata": {
        "id": "EH_9BzYSY8Fh",
        "colab": {
          "base_uri": "https://localhost:8080/",
          "height": 363
        },
        "outputId": "672c97ad-4fc1-423f-b8ee-c3dfe7904c19"
      },
      "execution_count": 18,
      "outputs": [
        {
          "output_type": "execute_result",
          "data": {
            "text/plain": [
              "                                   Item Name Item Availability  \\\n",
              "0          Fan Village Qetaifan Island North         Available   \n",
              "1  4340 Umm Besher Barwa Madinatna Cluster G         Available   \n",
              "2               Fan Village Cabins Free Zone         Available   \n",
              "3       Cruise Ship Hotel - MSC World Europa         Available   \n",
              "4     4381 Barwa Barahat Al Janoub Cluster T         Available   \n",
              "5                3351 Al Kharayej Apartments         Available   \n",
              "6                        Fan Village Al Khor         Available   \n",
              "7      3234 Fereej Bin Mahmoud 23 Apartments         Available   \n",
              "8                         Sambook Ship Dhows         Available   \n",
              "9                    3310 Muaither 55 Villas         Available   \n",
              "\n",
              "                                           Item Link  \n",
              "0  https://www.qatar2022.qa/book/en/detail/57992/...  \n",
              "1  https://www.qatar2022.qa/book/en/detail/57776/...  \n",
              "2  https://www.qatar2022.qa/book/en/detail/57833/...  \n",
              "3  https://www.qatar2022.qa/book/en/detail/57367/...  \n",
              "4  https://www.qatar2022.qa/book/en/detail/57826/...  \n",
              "5  https://www.qatar2022.qa/book/en/detail/57571/...  \n",
              "6  https://www.qatar2022.qa/book/en/detail/57875/...  \n",
              "7  https://www.qatar2022.qa/book/en/detail/58062/...  \n",
              "8  https://www.qatar2022.qa/book/en/detail/58109/...  \n",
              "9  https://www.qatar2022.qa/book/en/detail/57482/...  "
            ],
            "text/html": [
              "\n",
              "  <div id=\"df-0cf87dfb-cd9e-42cb-a8f9-6e8c9b86a621\">\n",
              "    <div class=\"colab-df-container\">\n",
              "      <div>\n",
              "<style scoped>\n",
              "    .dataframe tbody tr th:only-of-type {\n",
              "        vertical-align: middle;\n",
              "    }\n",
              "\n",
              "    .dataframe tbody tr th {\n",
              "        vertical-align: top;\n",
              "    }\n",
              "\n",
              "    .dataframe thead th {\n",
              "        text-align: right;\n",
              "    }\n",
              "</style>\n",
              "<table border=\"1\" class=\"dataframe\">\n",
              "  <thead>\n",
              "    <tr style=\"text-align: right;\">\n",
              "      <th></th>\n",
              "      <th>Item Name</th>\n",
              "      <th>Item Availability</th>\n",
              "      <th>Item Link</th>\n",
              "    </tr>\n",
              "  </thead>\n",
              "  <tbody>\n",
              "    <tr>\n",
              "      <th>0</th>\n",
              "      <td>Fan Village Qetaifan Island North</td>\n",
              "      <td>Available</td>\n",
              "      <td>https://www.qatar2022.qa/book/en/detail/57992/...</td>\n",
              "    </tr>\n",
              "    <tr>\n",
              "      <th>1</th>\n",
              "      <td>4340 Umm Besher Barwa Madinatna Cluster G</td>\n",
              "      <td>Available</td>\n",
              "      <td>https://www.qatar2022.qa/book/en/detail/57776/...</td>\n",
              "    </tr>\n",
              "    <tr>\n",
              "      <th>2</th>\n",
              "      <td>Fan Village Cabins Free Zone</td>\n",
              "      <td>Available</td>\n",
              "      <td>https://www.qatar2022.qa/book/en/detail/57833/...</td>\n",
              "    </tr>\n",
              "    <tr>\n",
              "      <th>3</th>\n",
              "      <td>Cruise Ship Hotel - MSC World Europa</td>\n",
              "      <td>Available</td>\n",
              "      <td>https://www.qatar2022.qa/book/en/detail/57367/...</td>\n",
              "    </tr>\n",
              "    <tr>\n",
              "      <th>4</th>\n",
              "      <td>4381 Barwa Barahat Al Janoub Cluster T</td>\n",
              "      <td>Available</td>\n",
              "      <td>https://www.qatar2022.qa/book/en/detail/57826/...</td>\n",
              "    </tr>\n",
              "    <tr>\n",
              "      <th>5</th>\n",
              "      <td>3351 Al Kharayej Apartments</td>\n",
              "      <td>Available</td>\n",
              "      <td>https://www.qatar2022.qa/book/en/detail/57571/...</td>\n",
              "    </tr>\n",
              "    <tr>\n",
              "      <th>6</th>\n",
              "      <td>Fan Village Al Khor</td>\n",
              "      <td>Available</td>\n",
              "      <td>https://www.qatar2022.qa/book/en/detail/57875/...</td>\n",
              "    </tr>\n",
              "    <tr>\n",
              "      <th>7</th>\n",
              "      <td>3234 Fereej Bin Mahmoud 23 Apartments</td>\n",
              "      <td>Available</td>\n",
              "      <td>https://www.qatar2022.qa/book/en/detail/58062/...</td>\n",
              "    </tr>\n",
              "    <tr>\n",
              "      <th>8</th>\n",
              "      <td>Sambook Ship Dhows</td>\n",
              "      <td>Available</td>\n",
              "      <td>https://www.qatar2022.qa/book/en/detail/58109/...</td>\n",
              "    </tr>\n",
              "    <tr>\n",
              "      <th>9</th>\n",
              "      <td>3310 Muaither 55 Villas</td>\n",
              "      <td>Available</td>\n",
              "      <td>https://www.qatar2022.qa/book/en/detail/57482/...</td>\n",
              "    </tr>\n",
              "  </tbody>\n",
              "</table>\n",
              "</div>\n",
              "      <button class=\"colab-df-convert\" onclick=\"convertToInteractive('df-0cf87dfb-cd9e-42cb-a8f9-6e8c9b86a621')\"\n",
              "              title=\"Convert this dataframe to an interactive table.\"\n",
              "              style=\"display:none;\">\n",
              "        \n",
              "  <svg xmlns=\"http://www.w3.org/2000/svg\" height=\"24px\"viewBox=\"0 0 24 24\"\n",
              "       width=\"24px\">\n",
              "    <path d=\"M0 0h24v24H0V0z\" fill=\"none\"/>\n",
              "    <path d=\"M18.56 5.44l.94 2.06.94-2.06 2.06-.94-2.06-.94-.94-2.06-.94 2.06-2.06.94zm-11 1L8.5 8.5l.94-2.06 2.06-.94-2.06-.94L8.5 2.5l-.94 2.06-2.06.94zm10 10l.94 2.06.94-2.06 2.06-.94-2.06-.94-.94-2.06-.94 2.06-2.06.94z\"/><path d=\"M17.41 7.96l-1.37-1.37c-.4-.4-.92-.59-1.43-.59-.52 0-1.04.2-1.43.59L10.3 9.45l-7.72 7.72c-.78.78-.78 2.05 0 2.83L4 21.41c.39.39.9.59 1.41.59.51 0 1.02-.2 1.41-.59l7.78-7.78 2.81-2.81c.8-.78.8-2.07 0-2.86zM5.41 20L4 18.59l7.72-7.72 1.47 1.35L5.41 20z\"/>\n",
              "  </svg>\n",
              "      </button>\n",
              "      \n",
              "  <style>\n",
              "    .colab-df-container {\n",
              "      display:flex;\n",
              "      flex-wrap:wrap;\n",
              "      gap: 12px;\n",
              "    }\n",
              "\n",
              "    .colab-df-convert {\n",
              "      background-color: #E8F0FE;\n",
              "      border: none;\n",
              "      border-radius: 50%;\n",
              "      cursor: pointer;\n",
              "      display: none;\n",
              "      fill: #1967D2;\n",
              "      height: 32px;\n",
              "      padding: 0 0 0 0;\n",
              "      width: 32px;\n",
              "    }\n",
              "\n",
              "    .colab-df-convert:hover {\n",
              "      background-color: #E2EBFA;\n",
              "      box-shadow: 0px 1px 2px rgba(60, 64, 67, 0.3), 0px 1px 3px 1px rgba(60, 64, 67, 0.15);\n",
              "      fill: #174EA6;\n",
              "    }\n",
              "\n",
              "    [theme=dark] .colab-df-convert {\n",
              "      background-color: #3B4455;\n",
              "      fill: #D2E3FC;\n",
              "    }\n",
              "\n",
              "    [theme=dark] .colab-df-convert:hover {\n",
              "      background-color: #434B5C;\n",
              "      box-shadow: 0px 1px 3px 1px rgba(0, 0, 0, 0.15);\n",
              "      filter: drop-shadow(0px 1px 2px rgba(0, 0, 0, 0.3));\n",
              "      fill: #FFFFFF;\n",
              "    }\n",
              "  </style>\n",
              "\n",
              "      <script>\n",
              "        const buttonEl =\n",
              "          document.querySelector('#df-0cf87dfb-cd9e-42cb-a8f9-6e8c9b86a621 button.colab-df-convert');\n",
              "        buttonEl.style.display =\n",
              "          google.colab.kernel.accessAllowed ? 'block' : 'none';\n",
              "\n",
              "        async function convertToInteractive(key) {\n",
              "          const element = document.querySelector('#df-0cf87dfb-cd9e-42cb-a8f9-6e8c9b86a621');\n",
              "          const dataTable =\n",
              "            await google.colab.kernel.invokeFunction('convertToInteractive',\n",
              "                                                     [key], {});\n",
              "          if (!dataTable) return;\n",
              "\n",
              "          const docLinkHtml = 'Like what you see? Visit the ' +\n",
              "            '<a target=\"_blank\" href=https://colab.research.google.com/notebooks/data_table.ipynb>data table notebook</a>'\n",
              "            + ' to learn more about interactive tables.';\n",
              "          element.innerHTML = '';\n",
              "          dataTable['output_type'] = 'display_data';\n",
              "          await google.colab.output.renderOutput(dataTable, element);\n",
              "          const docLink = document.createElement('div');\n",
              "          docLink.innerHTML = docLinkHtml;\n",
              "          element.appendChild(docLink);\n",
              "        }\n",
              "      </script>\n",
              "    </div>\n",
              "  </div>\n",
              "  "
            ]
          },
          "metadata": {},
          "execution_count": 18
        }
      ]
    },
    {
      "cell_type": "code",
      "source": [
        "df.to_excel('sample_hotel_names.xlsx')"
      ],
      "metadata": {
        "id": "Xa639vo3XDB7"
      },
      "execution_count": null,
      "outputs": []
    }
  ]
}